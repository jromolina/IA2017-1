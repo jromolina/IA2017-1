{
 "cells": [
  {
   "cell_type": "markdown",
   "metadata": {},
   "source": [
    "## GRADIENT DESCENT"
   ]
  },
  {
   "cell_type": "code",
   "execution_count": 236,
   "metadata": {},
   "outputs": [],
   "source": [
    "import numpy as np\n",
    "import matplotlib.pyplot as plt\n",
    "import math\n",
    "\n",
    "%matplotlib inline\n"
   ]
  },
  {
   "cell_type": "code",
   "execution_count": 237,
   "metadata": {},
   "outputs": [],
   "source": [
    "X = [0.5, 2.2, 2.0]\n",
    "y = [2.0, 2.5, 1.4]"
   ]
  },
  {
   "cell_type": "markdown",
   "metadata": {},
   "source": [
    "#### INICIALIZANDO THETA 1 e THETA 0"
   ]
  },
  {
   "cell_type": "code",
   "execution_count": 238,
   "metadata": {},
   "outputs": [],
   "source": [
    "m = 0\n",
    "b = 0"
   ]
  },
  {
   "cell_type": "markdown",
   "metadata": {},
   "source": [
    "#### DEFININDO TAXA DE APRENDIZADO"
   ]
  },
  {
   "cell_type": "code",
   "execution_count": 239,
   "metadata": {},
   "outputs": [],
   "source": [
    "alpha=0.001"
   ]
  },
  {
   "cell_type": "markdown",
   "metadata": {},
   "source": [
    "#### DEFININDO A HIPÓTESE"
   ]
  },
  {
   "cell_type": "code",
   "execution_count": 240,
   "metadata": {},
   "outputs": [],
   "source": [
    "h = lambda x : m*x + b"
   ]
  },
  {
   "cell_type": "markdown",
   "metadata": {},
   "source": [
    "### CRIANDO INFORMAÇÕES ÚTEIS\n",
    "\n",
    "##### Criando vetor de custo  para verificar o decaimento do custo"
   ]
  },
  {
   "cell_type": "code",
   "execution_count": 241,
   "metadata": {},
   "outputs": [],
   "source": [
    "custo = np.array([])"
   ]
  },
  {
   "cell_type": "markdown",
   "metadata": {},
   "source": [
    "##### FUNÇÃO PARA PLOTAR PONTOS E REGRESSÃO LINEAR"
   ]
  },
  {
   "cell_type": "code",
   "execution_count": 242,
   "metadata": {},
   "outputs": [],
   "source": [
    "def plot_line(Fx, X, y):\n",
    "    x_values = [i for i in range(int(min(X))-1,int(max(X))+2)]\n",
    "    y_values = [h(x) for x in x_values]\n",
    "    plt.plot(x_values,y_values,'r')\n",
    "    plt.plot(X,y,'bo')"
   ]
  },
  {
   "cell_type": "code",
   "execution_count": 243,
   "metadata": {},
   "outputs": [
    {
     "data": {
      "image/png": "[encoded data removed]",
      "text/plain": [
       "<matplotlib.figure.Figure at 0x255cddf84a8>"
      ]
     },
     "metadata": {},
     "output_type": "display_data"
    }
   ],
   "source": [
    "plot_line(h,X,y)"
   ]
  },
  {
   "cell_type": "code",
   "execution_count": 244,
   "metadata": {},
   "outputs": [],
   "source": [
    "### FUNÇÃO DE CUSTO"
   ]
  },
  {
   "cell_type": "code",
   "execution_count": 245,
   "metadata": {},
   "outputs": [],
   "source": [
    "def MSE(m,b,X,y):\n",
    "    mse = 0\n",
    "    N = float(len(X))\n",
    "    for i in range(0,len(X)):\n",
    "        mse += (h(X[i]) - y[i])**2\n",
    "\n",
    "    return mse/N\n",
    "        "
   ]
  },
  {
   "cell_type": "code",
   "execution_count": 246,
   "metadata": {},
   "outputs": [],
   "source": [
    "def gradient_descent_step(theta0, theta1, X, y, alpha):\n",
    "    \n",
    "    erro_theta0 = 0\n",
    "    erro_theta1 = 0\n",
    "    N = float(len(X))\n",
    "    \n",
    "    for i in range(0,len(X)):\n",
    "        erro_theta0 += ((h(X[i])) -y[i])\n",
    "        erro_theta1 += ((h(X[i])) -y[i]) * X[i]\n",
    "        \n",
    "    new_theta0 = theta0 - alpha*(1/N)*erro_theta0\n",
    "    new_theta1 = theta1 - alpha*(1/N)*erro_theta1\n",
    "        \n",
    "    return new_theta0, new_theta1\n"
   ]
  },
  {
   "cell_type": "markdown",
   "metadata": {},
   "source": [
    "## CONCEITO DE EPOCH"
   ]
  },
  {
   "cell_type": "code",
   "execution_count": 247,
   "metadata": {},
   "outputs": [],
   "source": [
    "epoch = 300"
   ]
  },
  {
   "cell_type": "code",
   "execution_count": 248,
   "metadata": {},
   "outputs": [],
   "source": [
    "def gradient_descent(m, b, X, y, alpha, epoch):   \n",
    "    for i in range(epoch):\n",
    "        m, b = gradient_descent_step(m, b, X, y, alpha)        \n",
    "    return m, b"
   ]
  },
  {
   "cell_type": "code",
   "execution_count": 249,
   "metadata": {},
   "outputs": [],
   "source": [
    "X = [0.5, 2.2, 2.0]\n",
    "y = [2.0, 2.5, 1.4]\n",
    "\n",
    "m = 0\n",
    "b = 0\n",
    "\n",
    "alpha=0.001 # taxa de aprendizado\n",
    "\n",
    "epoch = 300\n",
    "\n",
    "m, b = gradient_descent(m, b, X, y, alpha, epoch)"
   ]
  },
  {
   "cell_type": "code",
   "execution_count": 250,
   "metadata": {},
   "outputs": [
    {
     "data": {
      "image/png": "[encoded data removed]",
      "text/plain": [
       "<matplotlib.figure.Figure at 0x255cdcfc588>"
      ]
     },
     "metadata": {},
     "output_type": "display_data"
    }
   ],
   "source": [
    "plot_line(h,X,y)"
   ]
  },
  {
   "cell_type": "code",
   "execution_count": null,
   "metadata": {},
   "outputs": [],
   "source": []
  },
  {
   "cell_type": "code",
   "execution_count": null,
   "metadata": {},
   "outputs": [],
   "source": []
  }
 ],
 "metadata": {
  "kernelspec": {
   "display_name": "Python 3",
   "language": "python",
   "name": "python3"
  },
  "language_info": {
   "codemirror_mode": {
    "name": "ipython",
    "version": 3
   },
   "file_extension": ".py",
   "mimetype": "text/x-python",
   "name": "python",
   "nbconvert_exporter": "python",
   "pygments_lexer": "ipython3",
   "version": "3.6.4"
  }
 },
 "nbformat": 4,
 "nbformat_minor": 2
}
